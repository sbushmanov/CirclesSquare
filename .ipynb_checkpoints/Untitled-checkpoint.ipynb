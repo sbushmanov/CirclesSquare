{
 "cells": [
  {
   "cell_type": "code",
   "execution_count": 3,
   "id": "90fe746f-d229-4093-9486-67c5c548d5a3",
   "metadata": {},
   "outputs": [
    {
     "data": {
      "text/plain": [
       "\u001b[32mimport \u001b[39m\u001b[36m$ivy.$\u001b[39m\n",
       "\u001b[32mimport \u001b[39m\u001b[36mscala.collection.parallel.CollectionConverters._\u001b[39m\n",
       "\u001b[32mimport \u001b[39m\u001b[36mmath.pow\u001b[39m"
      ]
     },
     "execution_count": 3,
     "metadata": {},
     "output_type": "execute_result"
    }
   ],
   "source": [
    "import $ivy.`org.scala-lang.modules::scala-parallel-collections:1.0.4`\n",
    "import scala.collection.parallel.CollectionConverters._\n",
    "import math.pow"
   ]
  },
  {
   "cell_type": "code",
   "execution_count": 23,
   "id": "97e9a90a-6e4c-4b87-93ba-7a117a54323c",
   "metadata": {},
   "outputs": [
    {
     "data": {
      "text/plain": [
       "defined \u001b[32mclass\u001b[39m \u001b[36mCircle\u001b[39m\n",
       "defined \u001b[32mfunction\u001b[39m \u001b[36minCircle\u001b[39m\n",
       "defined \u001b[32mclass\u001b[39m \u001b[36mSquare\u001b[39m"
      ]
     },
     "execution_count": 23,
     "metadata": {},
     "output_type": "execute_result"
    }
   ],
   "source": [
    "case class Circle(x: Double, y: Double, r: Double)\n",
    "\n",
    "def inCircle(x: Double, y: Double, c: Circle): Boolean = {\n",
    "    if (pow(x - c.x, 2) + pow(y - c.y, 2) < c.r) true\n",
    "    else false\n",
    "}\n",
    "\n",
    "class Square(ls: List[Circle], step: Double) {\n",
    "    private val xMin = ls.map{ c => if (c.x > 0) c.x - c.r else -c.x - c.r }.min\n",
    "    private val xMax = ls.map{ c => c.x + c.r}.max\n",
    "    private val yMin = ls.map{ c => if (c.y > 0) c.y - c.r else -c.y - c.r}.min\n",
    "    private val yMax = ls.map{ c => c.y + c.r}.max\n",
    "    private val xs = LazyList.iterate(xMin)(_+step)\n",
    "    private val ys = LazyList.iterate(yMin)(_+step)\n",
    "    val square = xs.zip(ys).takeWhile{ case (x,y) => x < xMax & y < yMax}.par.aggregate(0.0)(\n",
    "        (acc, el) => if (ls.exists(c => inCircle(el._1, el._2, c))) acc + pow(step, 2) else acc + 0.0,\n",
    "        (acc1, acc2) => acc1 + acc2\n",
    "        )\n",
    "}"
   ]
  }
 ],
 "metadata": {
  "kernelspec": {
   "display_name": "Scala (2.13)",
   "language": "scala",
   "name": "scala213"
  },
  "language_info": {
   "codemirror_mode": "text/x-scala",
   "file_extension": ".sc",
   "mimetype": "text/x-scala",
   "name": "scala",
   "nbconvert_exporter": "script",
   "version": "2.13.9"
  }
 },
 "nbformat": 4,
 "nbformat_minor": 5
}
